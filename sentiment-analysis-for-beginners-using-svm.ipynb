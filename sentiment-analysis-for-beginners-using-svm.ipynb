{
 "cells": [
  {
   "cell_type": "markdown",
   "id": "36341972",
   "metadata": {
    "papermill": {
     "duration": 0.00754,
     "end_time": "2023-10-15T14:30:21.834210",
     "exception": false,
     "start_time": "2023-10-15T14:30:21.826670",
     "status": "completed"
    },
    "tags": []
   },
   "source": [
    "### Introduction\n",
    "#### Sentiment Analysis: It is the interpretation and classification of emotions (positive, negative and neutral) within text data using text analysis techniques. Sentiment analysis allows organizations to identify public sentiment towards certain words or topics.\n",
    "#### Support Vector Machine (SVM) is a relatively simple Supervised Machine Learning Algorithm used for classification and/or regression. It is more preferred for classification but is sometimes very useful for regression as well. Basically, SVM finds a hyper-plane that creates a boundary between the types of data. In"
   ]
  },
  {
   "cell_type": "code",
   "execution_count": 1,
   "id": "136935e3",
   "metadata": {
    "execution": {
     "iopub.execute_input": "2023-10-15T14:30:21.848562Z",
     "iopub.status.busy": "2023-10-15T14:30:21.848136Z",
     "iopub.status.idle": "2023-10-15T14:30:23.223398Z",
     "shell.execute_reply": "2023-10-15T14:30:23.222051Z"
    },
    "papermill": {
     "duration": 1.385939,
     "end_time": "2023-10-15T14:30:23.226417",
     "exception": false,
     "start_time": "2023-10-15T14:30:21.840478",
     "status": "completed"
    },
    "tags": []
   },
   "outputs": [],
   "source": [
    "#importing all required libraries\n",
    "import warnings\n",
    "warnings.filterwarnings('ignore')\n",
    "import random\n",
    "import numpy as np\n",
    "import pandas as pd\n",
    "from sklearn import svm\n",
    "from sklearn.preprocessing import StandardScaler\n",
    "from sklearn.model_selection import train_test_split\n",
    "from sklearn.metrics import classification_report\n",
    "from sklearn.feature_extraction.text import CountVectorizer"
   ]
  },
  {
   "cell_type": "markdown",
   "id": "28e7bd8e",
   "metadata": {
    "papermill": {
     "duration": 0.005566,
     "end_time": "2023-10-15T14:30:23.238037",
     "exception": false,
     "start_time": "2023-10-15T14:30:23.232471",
     "status": "completed"
    },
    "tags": []
   },
   "source": [
    "#### I have used SVM model and achieved a score of 87%.This is excellant project for beginners.\n",
    "#### To reduce the burden on the system I have performed systematic sampling on the dataset"
   ]
  },
  {
   "cell_type": "markdown",
   "id": "5dab5c1d",
   "metadata": {
    "papermill": {
     "duration": 0.005489,
     "end_time": "2023-10-15T14:30:23.249161",
     "exception": false,
     "start_time": "2023-10-15T14:30:23.243672",
     "status": "completed"
    },
    "tags": []
   },
   "source": [
    "## Accessing Dataset"
   ]
  },
  {
   "cell_type": "code",
   "execution_count": 2,
   "id": "82f8aec9",
   "metadata": {
    "execution": {
     "iopub.execute_input": "2023-10-15T14:30:23.262709Z",
     "iopub.status.busy": "2023-10-15T14:30:23.262248Z",
     "iopub.status.idle": "2023-10-15T14:31:08.889796Z",
     "shell.execute_reply": "2023-10-15T14:31:08.888125Z"
    },
    "papermill": {
     "duration": 45.642775,
     "end_time": "2023-10-15T14:31:08.897622",
     "exception": false,
     "start_time": "2023-10-15T14:30:23.254847",
     "status": "completed"
    },
    "tags": []
   },
   "outputs": [
    {
     "data": {
      "text/html": [
       "<div>\n",
       "<style scoped>\n",
       "    .dataframe tbody tr th:only-of-type {\n",
       "        vertical-align: middle;\n",
       "    }\n",
       "\n",
       "    .dataframe tbody tr th {\n",
       "        vertical-align: top;\n",
       "    }\n",
       "\n",
       "    .dataframe thead th {\n",
       "        text-align: right;\n",
       "    }\n",
       "</style>\n",
       "<table border=\"1\" class=\"dataframe\">\n",
       "  <thead>\n",
       "    <tr style=\"text-align: right;\">\n",
       "      <th></th>\n",
       "      <th>ratings</th>\n",
       "      <th>title</th>\n",
       "      <th>review</th>\n",
       "    </tr>\n",
       "  </thead>\n",
       "  <tbody>\n",
       "    <tr>\n",
       "      <th>0</th>\n",
       "      <td>2</td>\n",
       "      <td>Stuning even for the non-gamer</td>\n",
       "      <td>This sound track was beautiful! It paints the ...</td>\n",
       "    </tr>\n",
       "    <tr>\n",
       "      <th>1</th>\n",
       "      <td>2</td>\n",
       "      <td>The best soundtrack ever to anything.</td>\n",
       "      <td>I'm reading a lot of reviews saying that this ...</td>\n",
       "    </tr>\n",
       "    <tr>\n",
       "      <th>2</th>\n",
       "      <td>2</td>\n",
       "      <td>Amazing!</td>\n",
       "      <td>This soundtrack is my favorite music of all ti...</td>\n",
       "    </tr>\n",
       "    <tr>\n",
       "      <th>3</th>\n",
       "      <td>2</td>\n",
       "      <td>Excellent Soundtrack</td>\n",
       "      <td>I truly like this soundtrack and I enjoy video...</td>\n",
       "    </tr>\n",
       "    <tr>\n",
       "      <th>4</th>\n",
       "      <td>2</td>\n",
       "      <td>Remember, Pull Your Jaw Off The Floor After He...</td>\n",
       "      <td>If you've played the game, you know how divine...</td>\n",
       "    </tr>\n",
       "    <tr>\n",
       "      <th>...</th>\n",
       "      <td>...</td>\n",
       "      <td>...</td>\n",
       "      <td>...</td>\n",
       "    </tr>\n",
       "    <tr>\n",
       "      <th>3599995</th>\n",
       "      <td>1</td>\n",
       "      <td>Don't do it!!</td>\n",
       "      <td>The high chair looks great when it first comes...</td>\n",
       "    </tr>\n",
       "    <tr>\n",
       "      <th>3599996</th>\n",
       "      <td>1</td>\n",
       "      <td>Looks nice, low functionality</td>\n",
       "      <td>I have used this highchair for 2 kids now and ...</td>\n",
       "    </tr>\n",
       "    <tr>\n",
       "      <th>3599997</th>\n",
       "      <td>1</td>\n",
       "      <td>compact, but hard to clean</td>\n",
       "      <td>We have a small house, and really wanted two o...</td>\n",
       "    </tr>\n",
       "    <tr>\n",
       "      <th>3599998</th>\n",
       "      <td>1</td>\n",
       "      <td>what is it saying?</td>\n",
       "      <td>not sure what this book is supposed to be. It ...</td>\n",
       "    </tr>\n",
       "    <tr>\n",
       "      <th>3599999</th>\n",
       "      <td>2</td>\n",
       "      <td>Makes My Blood Run Red-White-And-Blue</td>\n",
       "      <td>I agree that every American should read this b...</td>\n",
       "    </tr>\n",
       "  </tbody>\n",
       "</table>\n",
       "<p>3600000 rows × 3 columns</p>\n",
       "</div>"
      ],
      "text/plain": [
       "         ratings                                              title  \\\n",
       "0              2                     Stuning even for the non-gamer   \n",
       "1              2              The best soundtrack ever to anything.   \n",
       "2              2                                           Amazing!   \n",
       "3              2                               Excellent Soundtrack   \n",
       "4              2  Remember, Pull Your Jaw Off The Floor After He...   \n",
       "...          ...                                                ...   \n",
       "3599995        1                                      Don't do it!!   \n",
       "3599996        1                      Looks nice, low functionality   \n",
       "3599997        1                         compact, but hard to clean   \n",
       "3599998        1                                 what is it saying?   \n",
       "3599999        2              Makes My Blood Run Red-White-And-Blue   \n",
       "\n",
       "                                                    review  \n",
       "0        This sound track was beautiful! It paints the ...  \n",
       "1        I'm reading a lot of reviews saying that this ...  \n",
       "2        This soundtrack is my favorite music of all ti...  \n",
       "3        I truly like this soundtrack and I enjoy video...  \n",
       "4        If you've played the game, you know how divine...  \n",
       "...                                                    ...  \n",
       "3599995  The high chair looks great when it first comes...  \n",
       "3599996  I have used this highchair for 2 kids now and ...  \n",
       "3599997  We have a small house, and really wanted two o...  \n",
       "3599998  not sure what this book is supposed to be. It ...  \n",
       "3599999  I agree that every American should read this b...  \n",
       "\n",
       "[3600000 rows x 3 columns]"
      ]
     },
     "execution_count": 2,
     "metadata": {},
     "output_type": "execute_result"
    }
   ],
   "source": [
    "reviews=pd.read_csv('/kaggle/input/amazon-customerreviews-polarity/train.csv',names=['ratings','title','review'])\n",
    "reviews"
   ]
  },
  {
   "cell_type": "markdown",
   "id": "06e4b22c",
   "metadata": {
    "papermill": {
     "duration": 0.005611,
     "end_time": "2023-10-15T14:31:08.909041",
     "exception": false,
     "start_time": "2023-10-15T14:31:08.903430",
     "status": "completed"
    },
    "tags": []
   },
   "source": [
    "## Accessing the data"
   ]
  },
  {
   "cell_type": "code",
   "execution_count": 3,
   "id": "3b2334dc",
   "metadata": {
    "execution": {
     "iopub.execute_input": "2023-10-15T14:31:08.924360Z",
     "iopub.status.busy": "2023-10-15T14:31:08.923903Z",
     "iopub.status.idle": "2023-10-15T14:31:10.313702Z",
     "shell.execute_reply": "2023-10-15T14:31:10.312441Z"
    },
    "papermill": {
     "duration": 1.401446,
     "end_time": "2023-10-15T14:31:10.316283",
     "exception": false,
     "start_time": "2023-10-15T14:31:08.914837",
     "status": "completed"
    },
    "tags": []
   },
   "outputs": [
    {
     "data": {
      "text/html": [
       "<div>\n",
       "<style scoped>\n",
       "    .dataframe tbody tr th:only-of-type {\n",
       "        vertical-align: middle;\n",
       "    }\n",
       "\n",
       "    .dataframe tbody tr th {\n",
       "        vertical-align: top;\n",
       "    }\n",
       "\n",
       "    .dataframe thead th {\n",
       "        text-align: right;\n",
       "    }\n",
       "</style>\n",
       "<table border=\"1\" class=\"dataframe\">\n",
       "  <thead>\n",
       "    <tr style=\"text-align: right;\">\n",
       "      <th></th>\n",
       "      <th>title</th>\n",
       "      <th>review</th>\n",
       "    </tr>\n",
       "    <tr>\n",
       "      <th>ratings</th>\n",
       "      <th></th>\n",
       "      <th></th>\n",
       "    </tr>\n",
       "  </thead>\n",
       "  <tbody>\n",
       "    <tr>\n",
       "      <th>1</th>\n",
       "      <td>1799958</td>\n",
       "      <td>1800000</td>\n",
       "    </tr>\n",
       "    <tr>\n",
       "      <th>2</th>\n",
       "      <td>1799965</td>\n",
       "      <td>1800000</td>\n",
       "    </tr>\n",
       "  </tbody>\n",
       "</table>\n",
       "</div>"
      ],
      "text/plain": [
       "           title   review\n",
       "ratings                  \n",
       "1        1799958  1800000\n",
       "2        1799965  1800000"
      ]
     },
     "execution_count": 3,
     "metadata": {},
     "output_type": "execute_result"
    }
   ],
   "source": [
    "reviews.groupby('ratings').count()"
   ]
  },
  {
   "cell_type": "markdown",
   "id": "c37d0153",
   "metadata": {
    "papermill": {
     "duration": 0.005941,
     "end_time": "2023-10-15T14:31:10.328490",
     "exception": false,
     "start_time": "2023-10-15T14:31:10.322549",
     "status": "completed"
    },
    "tags": []
   },
   "source": [
    "### Performing Systematic Sampling on the dataset"
   ]
  },
  {
   "cell_type": "code",
   "execution_count": 4,
   "id": "a09cf716",
   "metadata": {
    "execution": {
     "iopub.execute_input": "2023-10-15T14:31:10.343563Z",
     "iopub.status.busy": "2023-10-15T14:31:10.342534Z",
     "iopub.status.idle": "2023-10-15T14:31:10.386662Z",
     "shell.execute_reply": "2023-10-15T14:31:10.385105Z"
    },
    "papermill": {
     "duration": 0.055442,
     "end_time": "2023-10-15T14:31:10.390051",
     "exception": false,
     "start_time": "2023-10-15T14:31:10.334609",
     "status": "completed"
    },
    "tags": []
   },
   "outputs": [],
   "source": [
    "def systematic_sampling(df, step):\n",
    " \n",
    "    indexes = np.arange(0, len(df), step=step)\n",
    "    systematic_sample = df.iloc[indexes]\n",
    "    return systematic_sample\n",
    "reviews_subset=systematic_sampling(reviews,100)"
   ]
  },
  {
   "cell_type": "code",
   "execution_count": 5,
   "id": "69db28bd",
   "metadata": {
    "execution": {
     "iopub.execute_input": "2023-10-15T14:31:10.406350Z",
     "iopub.status.busy": "2023-10-15T14:31:10.405026Z",
     "iopub.status.idle": "2023-10-15T14:31:10.439310Z",
     "shell.execute_reply": "2023-10-15T14:31:10.437915Z"
    },
    "papermill": {
     "duration": 0.04523,
     "end_time": "2023-10-15T14:31:10.442135",
     "exception": false,
     "start_time": "2023-10-15T14:31:10.396905",
     "status": "completed"
    },
    "tags": []
   },
   "outputs": [
    {
     "data": {
      "text/html": [
       "<div>\n",
       "<style scoped>\n",
       "    .dataframe tbody tr th:only-of-type {\n",
       "        vertical-align: middle;\n",
       "    }\n",
       "\n",
       "    .dataframe tbody tr th {\n",
       "        vertical-align: top;\n",
       "    }\n",
       "\n",
       "    .dataframe thead th {\n",
       "        text-align: right;\n",
       "    }\n",
       "</style>\n",
       "<table border=\"1\" class=\"dataframe\">\n",
       "  <thead>\n",
       "    <tr style=\"text-align: right;\">\n",
       "      <th></th>\n",
       "      <th>title</th>\n",
       "      <th>review</th>\n",
       "    </tr>\n",
       "    <tr>\n",
       "      <th>ratings</th>\n",
       "      <th></th>\n",
       "      <th></th>\n",
       "    </tr>\n",
       "  </thead>\n",
       "  <tbody>\n",
       "    <tr>\n",
       "      <th>1</th>\n",
       "      <td>17782</td>\n",
       "      <td>17782</td>\n",
       "    </tr>\n",
       "    <tr>\n",
       "      <th>2</th>\n",
       "      <td>18217</td>\n",
       "      <td>18218</td>\n",
       "    </tr>\n",
       "  </tbody>\n",
       "</table>\n",
       "</div>"
      ],
      "text/plain": [
       "         title  review\n",
       "ratings               \n",
       "1        17782   17782\n",
       "2        18217   18218"
      ]
     },
     "execution_count": 5,
     "metadata": {},
     "output_type": "execute_result"
    }
   ],
   "source": [
    "reviews_subset.groupby('ratings').count()"
   ]
  },
  {
   "cell_type": "markdown",
   "id": "e3369eb1",
   "metadata": {
    "papermill": {
     "duration": 0.006608,
     "end_time": "2023-10-15T14:31:10.455530",
     "exception": false,
     "start_time": "2023-10-15T14:31:10.448922",
     "status": "completed"
    },
    "tags": []
   },
   "source": [
    "## Resetting Index"
   ]
  },
  {
   "cell_type": "code",
   "execution_count": 6,
   "id": "96eec9e1",
   "metadata": {
    "execution": {
     "iopub.execute_input": "2023-10-15T14:31:10.471849Z",
     "iopub.status.busy": "2023-10-15T14:31:10.470573Z",
     "iopub.status.idle": "2023-10-15T14:31:10.481497Z",
     "shell.execute_reply": "2023-10-15T14:31:10.480286Z"
    },
    "papermill": {
     "duration": 0.022233,
     "end_time": "2023-10-15T14:31:10.484556",
     "exception": false,
     "start_time": "2023-10-15T14:31:10.462323",
     "status": "completed"
    },
    "tags": []
   },
   "outputs": [],
   "source": [
    "reviews_subset=reviews_subset.reset_index(drop='index')"
   ]
  },
  {
   "cell_type": "code",
   "execution_count": 7,
   "id": "d9c26758",
   "metadata": {
    "execution": {
     "iopub.execute_input": "2023-10-15T14:31:10.500416Z",
     "iopub.status.busy": "2023-10-15T14:31:10.500023Z",
     "iopub.status.idle": "2023-10-15T14:31:10.512578Z",
     "shell.execute_reply": "2023-10-15T14:31:10.511502Z"
    },
    "papermill": {
     "duration": 0.023332,
     "end_time": "2023-10-15T14:31:10.514720",
     "exception": false,
     "start_time": "2023-10-15T14:31:10.491388",
     "status": "completed"
    },
    "tags": []
   },
   "outputs": [
    {
     "data": {
      "text/html": [
       "<div>\n",
       "<style scoped>\n",
       "    .dataframe tbody tr th:only-of-type {\n",
       "        vertical-align: middle;\n",
       "    }\n",
       "\n",
       "    .dataframe tbody tr th {\n",
       "        vertical-align: top;\n",
       "    }\n",
       "\n",
       "    .dataframe thead th {\n",
       "        text-align: right;\n",
       "    }\n",
       "</style>\n",
       "<table border=\"1\" class=\"dataframe\">\n",
       "  <thead>\n",
       "    <tr style=\"text-align: right;\">\n",
       "      <th></th>\n",
       "      <th>ratings</th>\n",
       "      <th>title</th>\n",
       "      <th>review</th>\n",
       "    </tr>\n",
       "  </thead>\n",
       "  <tbody>\n",
       "    <tr>\n",
       "      <th>0</th>\n",
       "      <td>2</td>\n",
       "      <td>Stuning even for the non-gamer</td>\n",
       "      <td>This sound track was beautiful! It paints the ...</td>\n",
       "    </tr>\n",
       "    <tr>\n",
       "      <th>1</th>\n",
       "      <td>2</td>\n",
       "      <td>textbook</td>\n",
       "      <td>Book shipped quickly and was in excellent cond...</td>\n",
       "    </tr>\n",
       "    <tr>\n",
       "      <th>2</th>\n",
       "      <td>1</td>\n",
       "      <td>Worthless and cheap</td>\n",
       "      <td>How is this thing awful? let me count the ways...</td>\n",
       "    </tr>\n",
       "    <tr>\n",
       "      <th>3</th>\n",
       "      <td>1</td>\n",
       "      <td>super wack</td>\n",
       "      <td>just like No-Limit Cash Money has no shame at ...</td>\n",
       "    </tr>\n",
       "    <tr>\n",
       "      <th>4</th>\n",
       "      <td>1</td>\n",
       "      <td>Starts out with promise, but then goes downhill.</td>\n",
       "      <td>Too bad Adam Sandler could not have been given...</td>\n",
       "    </tr>\n",
       "    <tr>\n",
       "      <th>...</th>\n",
       "      <td>...</td>\n",
       "      <td>...</td>\n",
       "      <td>...</td>\n",
       "    </tr>\n",
       "    <tr>\n",
       "      <th>35995</th>\n",
       "      <td>2</td>\n",
       "      <td>Vampire Diaries Season 1</td>\n",
       "      <td>What should I say? This item is just the best ...</td>\n",
       "    </tr>\n",
       "    <tr>\n",
       "      <th>35996</th>\n",
       "      <td>1</td>\n",
       "      <td>Day one - two sets of batteries and train has ...</td>\n",
       "      <td>We received theThomas And Friends Wooden Railw...</td>\n",
       "    </tr>\n",
       "    <tr>\n",
       "      <th>35997</th>\n",
       "      <td>2</td>\n",
       "      <td>DTW- A must read for fantasy football diehards...</td>\n",
       "      <td>If you're reading this review, then the book i...</td>\n",
       "    </tr>\n",
       "    <tr>\n",
       "      <th>35998</th>\n",
       "      <td>2</td>\n",
       "      <td>unique pianist</td>\n",
       "      <td>The \"Andante Spianato\" is the ultimate one! I ...</td>\n",
       "    </tr>\n",
       "    <tr>\n",
       "      <th>35999</th>\n",
       "      <td>2</td>\n",
       "      <td>Easier then going to the store</td>\n",
       "      <td>I found what I was looking for, and had it sen...</td>\n",
       "    </tr>\n",
       "  </tbody>\n",
       "</table>\n",
       "<p>36000 rows × 3 columns</p>\n",
       "</div>"
      ],
      "text/plain": [
       "       ratings                                              title  \\\n",
       "0            2                     Stuning even for the non-gamer   \n",
       "1            2                                           textbook   \n",
       "2            1                                Worthless and cheap   \n",
       "3            1                                         super wack   \n",
       "4            1   Starts out with promise, but then goes downhill.   \n",
       "...        ...                                                ...   \n",
       "35995        2                           Vampire Diaries Season 1   \n",
       "35996        1  Day one - two sets of batteries and train has ...   \n",
       "35997        2  DTW- A must read for fantasy football diehards...   \n",
       "35998        2                                     unique pianist   \n",
       "35999        2                     Easier then going to the store   \n",
       "\n",
       "                                                  review  \n",
       "0      This sound track was beautiful! It paints the ...  \n",
       "1      Book shipped quickly and was in excellent cond...  \n",
       "2      How is this thing awful? let me count the ways...  \n",
       "3      just like No-Limit Cash Money has no shame at ...  \n",
       "4      Too bad Adam Sandler could not have been given...  \n",
       "...                                                  ...  \n",
       "35995  What should I say? This item is just the best ...  \n",
       "35996  We received theThomas And Friends Wooden Railw...  \n",
       "35997  If you're reading this review, then the book i...  \n",
       "35998  The \"Andante Spianato\" is the ultimate one! I ...  \n",
       "35999  I found what I was looking for, and had it sen...  \n",
       "\n",
       "[36000 rows x 3 columns]"
      ]
     },
     "execution_count": 7,
     "metadata": {},
     "output_type": "execute_result"
    }
   ],
   "source": [
    "reviews_subset"
   ]
  },
  {
   "cell_type": "markdown",
   "id": "5be16cb4",
   "metadata": {
    "papermill": {
     "duration": 0.0062,
     "end_time": "2023-10-15T14:31:10.527582",
     "exception": false,
     "start_time": "2023-10-15T14:31:10.521382",
     "status": "completed"
    },
    "tags": []
   },
   "source": [
    "## Creating a new column sentiment containing Positive and Negative "
   ]
  },
  {
   "cell_type": "code",
   "execution_count": 8,
   "id": "04977452",
   "metadata": {
    "execution": {
     "iopub.execute_input": "2023-10-15T14:31:10.543261Z",
     "iopub.status.busy": "2023-10-15T14:31:10.542540Z",
     "iopub.status.idle": "2023-10-15T14:31:35.022537Z",
     "shell.execute_reply": "2023-10-15T14:31:35.020749Z"
    },
    "papermill": {
     "duration": 24.491995,
     "end_time": "2023-10-15T14:31:35.026219",
     "exception": false,
     "start_time": "2023-10-15T14:31:10.534224",
     "status": "completed"
    },
    "tags": []
   },
   "outputs": [],
   "source": [
    "reviews_subset['sentiment']=''\n",
    "for i in reviews_subset.index:\n",
    "    if reviews_subset.loc[i,'ratings']==2:\n",
    "        reviews_subset.loc[i,'sentiment']='POSITIVE'\n",
    "    else:\n",
    "        reviews_subset.loc[i,'sentiment']='NEGATIVE'"
   ]
  },
  {
   "cell_type": "code",
   "execution_count": 9,
   "id": "da974156",
   "metadata": {
    "execution": {
     "iopub.execute_input": "2023-10-15T14:31:35.042591Z",
     "iopub.status.busy": "2023-10-15T14:31:35.042171Z",
     "iopub.status.idle": "2023-10-15T14:31:35.060567Z",
     "shell.execute_reply": "2023-10-15T14:31:35.058915Z"
    },
    "papermill": {
     "duration": 0.030164,
     "end_time": "2023-10-15T14:31:35.063741",
     "exception": false,
     "start_time": "2023-10-15T14:31:35.033577",
     "status": "completed"
    },
    "tags": []
   },
   "outputs": [
    {
     "data": {
      "text/html": [
       "<div>\n",
       "<style scoped>\n",
       "    .dataframe tbody tr th:only-of-type {\n",
       "        vertical-align: middle;\n",
       "    }\n",
       "\n",
       "    .dataframe tbody tr th {\n",
       "        vertical-align: top;\n",
       "    }\n",
       "\n",
       "    .dataframe thead th {\n",
       "        text-align: right;\n",
       "    }\n",
       "</style>\n",
       "<table border=\"1\" class=\"dataframe\">\n",
       "  <thead>\n",
       "    <tr style=\"text-align: right;\">\n",
       "      <th></th>\n",
       "      <th>ratings</th>\n",
       "      <th>title</th>\n",
       "      <th>review</th>\n",
       "      <th>sentiment</th>\n",
       "    </tr>\n",
       "  </thead>\n",
       "  <tbody>\n",
       "    <tr>\n",
       "      <th>0</th>\n",
       "      <td>2</td>\n",
       "      <td>Stuning even for the non-gamer</td>\n",
       "      <td>This sound track was beautiful! It paints the ...</td>\n",
       "      <td>POSITIVE</td>\n",
       "    </tr>\n",
       "    <tr>\n",
       "      <th>1</th>\n",
       "      <td>2</td>\n",
       "      <td>textbook</td>\n",
       "      <td>Book shipped quickly and was in excellent cond...</td>\n",
       "      <td>POSITIVE</td>\n",
       "    </tr>\n",
       "    <tr>\n",
       "      <th>2</th>\n",
       "      <td>1</td>\n",
       "      <td>Worthless and cheap</td>\n",
       "      <td>How is this thing awful? let me count the ways...</td>\n",
       "      <td>NEGATIVE</td>\n",
       "    </tr>\n",
       "    <tr>\n",
       "      <th>3</th>\n",
       "      <td>1</td>\n",
       "      <td>super wack</td>\n",
       "      <td>just like No-Limit Cash Money has no shame at ...</td>\n",
       "      <td>NEGATIVE</td>\n",
       "    </tr>\n",
       "    <tr>\n",
       "      <th>4</th>\n",
       "      <td>1</td>\n",
       "      <td>Starts out with promise, but then goes downhill.</td>\n",
       "      <td>Too bad Adam Sandler could not have been given...</td>\n",
       "      <td>NEGATIVE</td>\n",
       "    </tr>\n",
       "    <tr>\n",
       "      <th>...</th>\n",
       "      <td>...</td>\n",
       "      <td>...</td>\n",
       "      <td>...</td>\n",
       "      <td>...</td>\n",
       "    </tr>\n",
       "    <tr>\n",
       "      <th>35995</th>\n",
       "      <td>2</td>\n",
       "      <td>Vampire Diaries Season 1</td>\n",
       "      <td>What should I say? This item is just the best ...</td>\n",
       "      <td>POSITIVE</td>\n",
       "    </tr>\n",
       "    <tr>\n",
       "      <th>35996</th>\n",
       "      <td>1</td>\n",
       "      <td>Day one - two sets of batteries and train has ...</td>\n",
       "      <td>We received theThomas And Friends Wooden Railw...</td>\n",
       "      <td>NEGATIVE</td>\n",
       "    </tr>\n",
       "    <tr>\n",
       "      <th>35997</th>\n",
       "      <td>2</td>\n",
       "      <td>DTW- A must read for fantasy football diehards...</td>\n",
       "      <td>If you're reading this review, then the book i...</td>\n",
       "      <td>POSITIVE</td>\n",
       "    </tr>\n",
       "    <tr>\n",
       "      <th>35998</th>\n",
       "      <td>2</td>\n",
       "      <td>unique pianist</td>\n",
       "      <td>The \"Andante Spianato\" is the ultimate one! I ...</td>\n",
       "      <td>POSITIVE</td>\n",
       "    </tr>\n",
       "    <tr>\n",
       "      <th>35999</th>\n",
       "      <td>2</td>\n",
       "      <td>Easier then going to the store</td>\n",
       "      <td>I found what I was looking for, and had it sen...</td>\n",
       "      <td>POSITIVE</td>\n",
       "    </tr>\n",
       "  </tbody>\n",
       "</table>\n",
       "<p>36000 rows × 4 columns</p>\n",
       "</div>"
      ],
      "text/plain": [
       "       ratings                                              title  \\\n",
       "0            2                     Stuning even for the non-gamer   \n",
       "1            2                                           textbook   \n",
       "2            1                                Worthless and cheap   \n",
       "3            1                                         super wack   \n",
       "4            1   Starts out with promise, but then goes downhill.   \n",
       "...        ...                                                ...   \n",
       "35995        2                           Vampire Diaries Season 1   \n",
       "35996        1  Day one - two sets of batteries and train has ...   \n",
       "35997        2  DTW- A must read for fantasy football diehards...   \n",
       "35998        2                                     unique pianist   \n",
       "35999        2                     Easier then going to the store   \n",
       "\n",
       "                                                  review sentiment  \n",
       "0      This sound track was beautiful! It paints the ...  POSITIVE  \n",
       "1      Book shipped quickly and was in excellent cond...  POSITIVE  \n",
       "2      How is this thing awful? let me count the ways...  NEGATIVE  \n",
       "3      just like No-Limit Cash Money has no shame at ...  NEGATIVE  \n",
       "4      Too bad Adam Sandler could not have been given...  NEGATIVE  \n",
       "...                                                  ...       ...  \n",
       "35995  What should I say? This item is just the best ...  POSITIVE  \n",
       "35996  We received theThomas And Friends Wooden Railw...  NEGATIVE  \n",
       "35997  If you're reading this review, then the book i...  POSITIVE  \n",
       "35998  The \"Andante Spianato\" is the ultimate one! I ...  POSITIVE  \n",
       "35999  I found what I was looking for, and had it sen...  POSITIVE  \n",
       "\n",
       "[36000 rows x 4 columns]"
      ]
     },
     "execution_count": 9,
     "metadata": {},
     "output_type": "execute_result"
    }
   ],
   "source": [
    "reviews_subset"
   ]
  },
  {
   "cell_type": "markdown",
   "id": "f99d8b24",
   "metadata": {
    "papermill": {
     "duration": 0.007154,
     "end_time": "2023-10-15T14:31:35.078385",
     "exception": false,
     "start_time": "2023-10-15T14:31:35.071231",
     "status": "completed"
    },
    "tags": []
   },
   "source": [
    "## Forming a single column of review by adding title column and existing review column together"
   ]
  },
  {
   "cell_type": "code",
   "execution_count": 10,
   "id": "652cbc8c",
   "metadata": {
    "execution": {
     "iopub.execute_input": "2023-10-15T14:31:35.095212Z",
     "iopub.status.busy": "2023-10-15T14:31:35.094772Z",
     "iopub.status.idle": "2023-10-15T14:31:35.170582Z",
     "shell.execute_reply": "2023-10-15T14:31:35.168883Z"
    },
    "papermill": {
     "duration": 0.08827,
     "end_time": "2023-10-15T14:31:35.174077",
     "exception": false,
     "start_time": "2023-10-15T14:31:35.085807",
     "status": "completed"
    },
    "tags": []
   },
   "outputs": [],
   "source": [
    "reviews_subset['review']=reviews_subset['title']+reviews_subset['review']"
   ]
  },
  {
   "cell_type": "code",
   "execution_count": 11,
   "id": "88334119",
   "metadata": {
    "execution": {
     "iopub.execute_input": "2023-10-15T14:31:35.191243Z",
     "iopub.status.busy": "2023-10-15T14:31:35.190814Z",
     "iopub.status.idle": "2023-10-15T14:31:35.204580Z",
     "shell.execute_reply": "2023-10-15T14:31:35.202950Z"
    },
    "papermill": {
     "duration": 0.025573,
     "end_time": "2023-10-15T14:31:35.207289",
     "exception": false,
     "start_time": "2023-10-15T14:31:35.181716",
     "status": "completed"
    },
    "tags": []
   },
   "outputs": [
    {
     "data": {
      "text/html": [
       "<div>\n",
       "<style scoped>\n",
       "    .dataframe tbody tr th:only-of-type {\n",
       "        vertical-align: middle;\n",
       "    }\n",
       "\n",
       "    .dataframe tbody tr th {\n",
       "        vertical-align: top;\n",
       "    }\n",
       "\n",
       "    .dataframe thead th {\n",
       "        text-align: right;\n",
       "    }\n",
       "</style>\n",
       "<table border=\"1\" class=\"dataframe\">\n",
       "  <thead>\n",
       "    <tr style=\"text-align: right;\">\n",
       "      <th></th>\n",
       "      <th>ratings</th>\n",
       "      <th>title</th>\n",
       "      <th>review</th>\n",
       "      <th>sentiment</th>\n",
       "    </tr>\n",
       "  </thead>\n",
       "  <tbody>\n",
       "    <tr>\n",
       "      <th>0</th>\n",
       "      <td>2</td>\n",
       "      <td>Stuning even for the non-gamer</td>\n",
       "      <td>Stuning even for the non-gamerThis sound track...</td>\n",
       "      <td>POSITIVE</td>\n",
       "    </tr>\n",
       "    <tr>\n",
       "      <th>1</th>\n",
       "      <td>2</td>\n",
       "      <td>textbook</td>\n",
       "      <td>textbookBook shipped quickly and was in excell...</td>\n",
       "      <td>POSITIVE</td>\n",
       "    </tr>\n",
       "    <tr>\n",
       "      <th>2</th>\n",
       "      <td>1</td>\n",
       "      <td>Worthless and cheap</td>\n",
       "      <td>Worthless and cheapHow is this thing awful? le...</td>\n",
       "      <td>NEGATIVE</td>\n",
       "    </tr>\n",
       "    <tr>\n",
       "      <th>3</th>\n",
       "      <td>1</td>\n",
       "      <td>super wack</td>\n",
       "      <td>super wackjust like No-Limit Cash Money has no...</td>\n",
       "      <td>NEGATIVE</td>\n",
       "    </tr>\n",
       "    <tr>\n",
       "      <th>4</th>\n",
       "      <td>1</td>\n",
       "      <td>Starts out with promise, but then goes downhill.</td>\n",
       "      <td>Starts out with promise, but then goes downhil...</td>\n",
       "      <td>NEGATIVE</td>\n",
       "    </tr>\n",
       "  </tbody>\n",
       "</table>\n",
       "</div>"
      ],
      "text/plain": [
       "   ratings                                             title  \\\n",
       "0        2                    Stuning even for the non-gamer   \n",
       "1        2                                          textbook   \n",
       "2        1                               Worthless and cheap   \n",
       "3        1                                        super wack   \n",
       "4        1  Starts out with promise, but then goes downhill.   \n",
       "\n",
       "                                              review sentiment  \n",
       "0  Stuning even for the non-gamerThis sound track...  POSITIVE  \n",
       "1  textbookBook shipped quickly and was in excell...  POSITIVE  \n",
       "2  Worthless and cheapHow is this thing awful? le...  NEGATIVE  \n",
       "3  super wackjust like No-Limit Cash Money has no...  NEGATIVE  \n",
       "4  Starts out with promise, but then goes downhil...  NEGATIVE  "
      ]
     },
     "execution_count": 11,
     "metadata": {},
     "output_type": "execute_result"
    }
   ],
   "source": [
    "reviews_subset.head()"
   ]
  },
  {
   "cell_type": "markdown",
   "id": "5cbf3e25",
   "metadata": {
    "papermill": {
     "duration": 0.007499,
     "end_time": "2023-10-15T14:31:35.222227",
     "exception": false,
     "start_time": "2023-10-15T14:31:35.214728",
     "status": "completed"
    },
    "tags": []
   },
   "source": [
    "## Dropping old title column"
   ]
  },
  {
   "cell_type": "code",
   "execution_count": 12,
   "id": "a21b7e44",
   "metadata": {
    "execution": {
     "iopub.execute_input": "2023-10-15T14:31:35.239135Z",
     "iopub.status.busy": "2023-10-15T14:31:35.238702Z",
     "iopub.status.idle": "2023-10-15T14:31:35.254128Z",
     "shell.execute_reply": "2023-10-15T14:31:35.252648Z"
    },
    "papermill": {
     "duration": 0.027901,
     "end_time": "2023-10-15T14:31:35.257532",
     "exception": false,
     "start_time": "2023-10-15T14:31:35.229631",
     "status": "completed"
    },
    "tags": []
   },
   "outputs": [],
   "source": [
    "reviews_subset=reviews_subset.drop('title',axis='columns')"
   ]
  },
  {
   "cell_type": "markdown",
   "id": "d1f5df0f",
   "metadata": {
    "papermill": {
     "duration": 0.007188,
     "end_time": "2023-10-15T14:31:35.273108",
     "exception": false,
     "start_time": "2023-10-15T14:31:35.265920",
     "status": "completed"
    },
    "tags": []
   },
   "source": [
    "## Checking data for NaN values "
   ]
  },
  {
   "cell_type": "code",
   "execution_count": 13,
   "id": "a5c7d1c6",
   "metadata": {
    "execution": {
     "iopub.execute_input": "2023-10-15T14:31:35.290403Z",
     "iopub.status.busy": "2023-10-15T14:31:35.289967Z",
     "iopub.status.idle": "2023-10-15T14:31:35.306940Z",
     "shell.execute_reply": "2023-10-15T14:31:35.306074Z"
    },
    "papermill": {
     "duration": 0.028748,
     "end_time": "2023-10-15T14:31:35.309318",
     "exception": false,
     "start_time": "2023-10-15T14:31:35.280570",
     "status": "completed"
    },
    "tags": []
   },
   "outputs": [
    {
     "data": {
      "text/plain": [
       "ratings      0\n",
       "review       1\n",
       "sentiment    0\n",
       "dtype: int64"
      ]
     },
     "execution_count": 13,
     "metadata": {},
     "output_type": "execute_result"
    }
   ],
   "source": [
    "reviews_subset.isna().sum()"
   ]
  },
  {
   "cell_type": "code",
   "execution_count": 14,
   "id": "0820c641",
   "metadata": {
    "execution": {
     "iopub.execute_input": "2023-10-15T14:31:35.327105Z",
     "iopub.status.busy": "2023-10-15T14:31:35.326248Z",
     "iopub.status.idle": "2023-10-15T14:31:35.343963Z",
     "shell.execute_reply": "2023-10-15T14:31:35.342817Z"
    },
    "papermill": {
     "duration": 0.029609,
     "end_time": "2023-10-15T14:31:35.346738",
     "exception": false,
     "start_time": "2023-10-15T14:31:35.317129",
     "status": "completed"
    },
    "tags": []
   },
   "outputs": [],
   "source": [
    "reviews_subset=reviews_subset.dropna()"
   ]
  },
  {
   "cell_type": "markdown",
   "id": "e6120e1e",
   "metadata": {
    "papermill": {
     "duration": 0.007045,
     "end_time": "2023-10-15T14:31:35.361517",
     "exception": false,
     "start_time": "2023-10-15T14:31:35.354472",
     "status": "completed"
    },
    "tags": []
   },
   "source": [
    "## Splitting dataset into train and test dataset using train_test_split method.This is convenient to test the model with datasets not seen by the model"
   ]
  },
  {
   "cell_type": "code",
   "execution_count": 15,
   "id": "867ca021",
   "metadata": {
    "execution": {
     "iopub.execute_input": "2023-10-15T14:31:35.379749Z",
     "iopub.status.busy": "2023-10-15T14:31:35.379293Z",
     "iopub.status.idle": "2023-10-15T14:31:35.394674Z",
     "shell.execute_reply": "2023-10-15T14:31:35.393239Z"
    },
    "papermill": {
     "duration": 0.028035,
     "end_time": "2023-10-15T14:31:35.397973",
     "exception": false,
     "start_time": "2023-10-15T14:31:35.369938",
     "status": "completed"
    },
    "tags": []
   },
   "outputs": [],
   "source": [
    "x_train,x_test,y_train,y_test=train_test_split(reviews_subset['review'],reviews_subset['sentiment'],test_size=0.25)"
   ]
  },
  {
   "cell_type": "code",
   "execution_count": 16,
   "id": "b5cbdd3b",
   "metadata": {
    "execution": {
     "iopub.execute_input": "2023-10-15T14:31:35.416120Z",
     "iopub.status.busy": "2023-10-15T14:31:35.415650Z",
     "iopub.status.idle": "2023-10-15T14:31:38.040587Z",
     "shell.execute_reply": "2023-10-15T14:31:38.038809Z"
    },
    "papermill": {
     "duration": 2.638142,
     "end_time": "2023-10-15T14:31:38.043741",
     "exception": false,
     "start_time": "2023-10-15T14:31:35.405599",
     "status": "completed"
    },
    "tags": []
   },
   "outputs": [],
   "source": [
    "cv=CountVectorizer()\n",
    "x_train_cv=cv.fit_transform(x_train.values)\n",
    "x_test_cv=cv.transform(x_test.values)"
   ]
  },
  {
   "cell_type": "markdown",
   "id": "3b4d5df3",
   "metadata": {
    "papermill": {
     "duration": 0.007858,
     "end_time": "2023-10-15T14:31:38.059357",
     "exception": false,
     "start_time": "2023-10-15T14:31:38.051499",
     "status": "completed"
    },
    "tags": []
   },
   "source": [
    "## Fitting the Model"
   ]
  },
  {
   "cell_type": "code",
   "execution_count": 17,
   "id": "9093b288",
   "metadata": {
    "execution": {
     "iopub.execute_input": "2023-10-15T14:31:38.077793Z",
     "iopub.status.busy": "2023-10-15T14:31:38.077078Z",
     "iopub.status.idle": "2023-10-15T14:37:45.371997Z",
     "shell.execute_reply": "2023-10-15T14:37:45.370956Z"
    },
    "papermill": {
     "duration": 367.314593,
     "end_time": "2023-10-15T14:37:45.381929",
     "exception": false,
     "start_time": "2023-10-15T14:31:38.067336",
     "status": "completed"
    },
    "tags": []
   },
   "outputs": [
    {
     "data": {
      "text/plain": [
       "SVC(C=1000, gamma='auto', kernel='sigmoid')"
      ]
     },
     "execution_count": 17,
     "metadata": {},
     "output_type": "execute_result"
    }
   ],
   "source": [
    "models=svm.SVC(C=1000,kernel='sigmoid',gamma='auto')\n",
    "models.fit(x_train_cv,y_train)"
   ]
  },
  {
   "cell_type": "code",
   "execution_count": 18,
   "id": "7c13f865",
   "metadata": {
    "execution": {
     "iopub.execute_input": "2023-10-15T14:37:45.399576Z",
     "iopub.status.busy": "2023-10-15T14:37:45.398711Z",
     "iopub.status.idle": "2023-10-15T14:38:47.739165Z",
     "shell.execute_reply": "2023-10-15T14:38:47.737851Z"
    },
    "papermill": {
     "duration": 62.36,
     "end_time": "2023-10-15T14:38:47.749184",
     "exception": false,
     "start_time": "2023-10-15T14:37:45.389184",
     "status": "completed"
    },
    "tags": []
   },
   "outputs": [
    {
     "data": {
      "text/plain": [
       "0.8748888888888889"
      ]
     },
     "execution_count": 18,
     "metadata": {},
     "output_type": "execute_result"
    }
   ],
   "source": [
    "models.score(x_test_cv,y_test)"
   ]
  },
  {
   "cell_type": "code",
   "execution_count": 19,
   "id": "3c931ac6",
   "metadata": {
    "execution": {
     "iopub.execute_input": "2023-10-15T14:38:47.766464Z",
     "iopub.status.busy": "2023-10-15T14:38:47.766027Z",
     "iopub.status.idle": "2023-10-15T14:39:50.616183Z",
     "shell.execute_reply": "2023-10-15T14:39:50.614417Z"
    },
    "papermill": {
     "duration": 62.87035,
     "end_time": "2023-10-15T14:39:50.626941",
     "exception": false,
     "start_time": "2023-10-15T14:38:47.756591",
     "status": "completed"
    },
    "tags": []
   },
   "outputs": [
    {
     "name": "stdout",
     "output_type": "stream",
     "text": [
      "              precision    recall  f1-score   support\n",
      "\n",
      "    NEGATIVE       0.88      0.87      0.87      4460\n",
      "    POSITIVE       0.87      0.88      0.88      4540\n",
      "\n",
      "    accuracy                           0.87      9000\n",
      "   macro avg       0.87      0.87      0.87      9000\n",
      "weighted avg       0.87      0.87      0.87      9000\n",
      "\n"
     ]
    }
   ],
   "source": [
    "y_pred=models.predict(x_test_cv)\n",
    "print(classification_report(y_test,y_pred))"
   ]
  },
  {
   "cell_type": "code",
   "execution_count": 20,
   "id": "1edb11df",
   "metadata": {
    "execution": {
     "iopub.execute_input": "2023-10-15T14:39:50.647364Z",
     "iopub.status.busy": "2023-10-15T14:39:50.646897Z",
     "iopub.status.idle": "2023-10-15T14:39:50.670873Z",
     "shell.execute_reply": "2023-10-15T14:39:50.669362Z"
    },
    "papermill": {
     "duration": 0.037596,
     "end_time": "2023-10-15T14:39:50.674031",
     "exception": false,
     "start_time": "2023-10-15T14:39:50.636435",
     "status": "completed"
    },
    "tags": []
   },
   "outputs": [
    {
     "data": {
      "text/plain": [
       "array(['POSITIVE', 'NEGATIVE', 'POSITIVE', 'NEGATIVE'], dtype=object)"
      ]
     },
     "execution_count": 20,
     "metadata": {},
     "output_type": "execute_result"
    }
   ],
   "source": [
    "text=['i am happy','I hate this','This is good','Better luck next time']\n",
    "_vector = cv.transform(text)\n",
    "models.predict(_vector)"
   ]
  }
 ],
 "metadata": {
  "kernelspec": {
   "display_name": "Python 3",
   "language": "python",
   "name": "python3"
  },
  "language_info": {
   "codemirror_mode": {
    "name": "ipython",
    "version": 3
   },
   "file_extension": ".py",
   "mimetype": "text/x-python",
   "name": "python",
   "nbconvert_exporter": "python",
   "pygments_lexer": "ipython3",
   "version": "3.7.12"
  },
  "papermill": {
   "default_parameters": {},
   "duration": 582.849011,
   "end_time": "2023-10-15T14:39:52.614161",
   "environment_variables": {},
   "exception": null,
   "input_path": "__notebook__.ipynb",
   "output_path": "__notebook__.ipynb",
   "parameters": {},
   "start_time": "2023-10-15T14:30:09.765150",
   "version": "2.4.0"
  }
 },
 "nbformat": 4,
 "nbformat_minor": 5
}
